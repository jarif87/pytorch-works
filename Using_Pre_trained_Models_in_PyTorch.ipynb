version https://git-lfs.github.com/spec/v1
oid sha256:3a7943830de4a108b61ba2f704cddc8c17bb30328c2568a3c3952b13a39e3ba7
size 3298070
