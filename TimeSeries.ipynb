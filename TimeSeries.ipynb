version https://git-lfs.github.com/spec/v1
oid sha256:bdf97076e87b53fa631873216feddc6b6d0de535c6b0d1a05d8a8183324d09d8
size 103534
